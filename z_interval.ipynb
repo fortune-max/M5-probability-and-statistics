{
  "nbformat": 4,
  "nbformat_minor": 0,
  "metadata": {
    "colab": {
      "provenance": [],
      "include_colab_link": true
    },
    "kernelspec": {
      "name": "python3",
      "display_name": "Python 3"
    }
  },
  "cells": [
    {
      "cell_type": "markdown",
      "metadata": {
        "id": "view-in-github",
        "colab_type": "text"
      },
      "source": [
        "<a href=\"https://colab.research.google.com/github/fortune-max/M5-probability-and-statistics/blob/main/z_interval.ipynb\" target=\"_parent\"><img src=\"https://colab.research.google.com/assets/colab-badge.svg\" alt=\"Open In Colab\"/></a>"
      ]
    },
    {
      "cell_type": "markdown",
      "metadata": {
        "id": "pvkiYoXQ3aOj"
      },
      "source": [
        "# z-INTERVAL: CI for the normal distribution, $\\sigma$ known\n",
        "\n",
        "In this notebook, you'll practice contructing the most basic confidence intervals - those for the parameter $\\mu$ of the Normal distribution assuming that the variance $\\sigma^2$ is known and therefore shouldn't be estimated from the data."
      ]
    },
    {
      "cell_type": "markdown",
      "metadata": {
        "id": "iR3fBOVgrgdM"
      },
      "source": [
        "As you saw already, a $(1-\\alpha)-$ confidence interval for the unknown parameter $\\mu$ of a Normal distribution with **known** variance $\\sigma^2$ can be constructed according to the following formula:\n",
        "\n",
        "$(\\bar{X} - \\frac{\\sigma}{\\sqrt{n}}z_{1-\\alpha/2} \\ ; \\ \\bar{X} + \\frac{\\sigma}{\\sqrt{n}}z_{1-\\alpha/2}),$\n",
        "\n",
        "where $z_{1-\\alpha/2}$ denotes $(1-\\alpha/2)-$quantile of the Standard Normal Distribution.\n",
        "\n",
        "Indeed,\n",
        "\n",
        "$P(\\bar{X} - \\frac{\\sigma}{\\sqrt{n}}z_{1-\\alpha/2} < \\mu < \\bar{X} + \\frac{\\sigma}{\\sqrt{n}}z_{1-\\alpha/2}) = 1 - \\alpha$.\n",
        "\n"
      ]
    },
    {
      "cell_type": "code",
      "metadata": {
        "id": "2J6zCtu_3sPN"
      },
      "source": [
        "import numpy as np\n",
        "\n",
        "import matplotlib.pyplot as plt\n",
        "import seaborn as sns\n",
        "\n",
        "import scipy.stats"
      ],
      "execution_count": 1,
      "outputs": []
    },
    {
      "cell_type": "markdown",
      "metadata": {
        "id": "U22dxKnxARH8"
      },
      "source": [
        "Define a function *z_interval()* that constructs such an interval (i.e., computes and returns its lower and upper bounds) given the current sample szie $n$, sample mean $\\bar{X}$, value of $\\sigma$ and the confidence level $\\alpha$.\n",
        "\n",
        "To compute the quantiles, use [scipy.stats.norm.ppf()](https://docs.scipy.org/doc/scipy/reference/generated/scipy.stats.norm.html)."
      ]
    },
    {
      "cell_type": "code",
      "metadata": {
        "id": "rPDll3SF3zxP"
      },
      "source": [
        "from math import sqrt\n",
        "def z_interval(sample_size, sample_mean, std_dev, alpha):\n",
        "  shift = std_dev / sqrt(sample_size) * scipy.stats.norm.ppf(1 - alpha / 2)\n",
        "  return [sample_mean - shift, sample_mean + shift]"
      ],
      "execution_count": 11,
      "outputs": []
    },
    {
      "cell_type": "markdown",
      "metadata": {
        "id": "G2ETU6vRuLqR"
      },
      "source": [
        "Check your function: for the example solved before, where $n = 100, \\ \\bar{X} = 5$ and $\\sigma = 1$, a 0.95 - confidence interval for the unknown parameter $\\mu$ is approximately $(4.804, 5.196)$."
      ]
    },
    {
      "cell_type": "code",
      "metadata": {
        "id": "wk_-s-SPulf9",
        "outputId": "8a0bb1f7-0062-4fda-b5a5-f0ae98d1dec4",
        "colab": {
          "base_uri": "https://localhost:8080/"
        }
      },
      "source": [
        "# Your code here\n",
        "z_interval(100, 5, 1, 0.05)"
      ],
      "execution_count": 12,
      "outputs": [
        {
          "output_type": "execute_result",
          "data": {
            "text/plain": [
              "[4.804003601545995, 5.195996398454005]"
            ]
          },
          "metadata": {},
          "execution_count": 12
        }
      ]
    },
    {
      "cell_type": "markdown",
      "metadata": {
        "id": "eJMDoxP_Ajma"
      },
      "source": [
        "## The effect of $\\alpha$\n",
        "\n",
        "Construct CI for the same data, but now with different values of confidence, e.g., $\\alpha = 0.1$ and $\\alpha = 0.01$.\n",
        "\n",
        "How does it influence the width of the intervals - do they get narrower or wider? Why?"
      ]
    },
    {
      "cell_type": "code",
      "metadata": {
        "id": "Puy-qLxlxNS7",
        "outputId": "5c348665-54cf-47c2-a820-3653d8bb0e6c",
        "colab": {
          "base_uri": "https://localhost:8080/"
        }
      },
      "source": [
        "# Your code here\n",
        "print(0.5, z_interval(100, 5, 1, 0.5))\n",
        "print(0.1, z_interval(100, 5, 1, 0.1))\n",
        "print(0.01, z_interval(100, 5, 1, 0.01))"
      ],
      "execution_count": 13,
      "outputs": [
        {
          "output_type": "stream",
          "name": "stdout",
          "text": [
            "0.5 [4.932551024980392, 5.067448975019608]\n",
            "0.1 [4.835514637304852, 5.164485362695148]\n",
            "0.01 [4.74241706964511, 5.25758293035489]\n"
          ]
        }
      ]
    },
    {
      "cell_type": "markdown",
      "metadata": {
        "id": "Iv7cNB-hApuX"
      },
      "source": [
        "## The effect of $n$\n",
        "\n",
        "Now, let's keep the confidence level $\\alpha = 0.05$, but alter the sample size. What happens to the CI when it's constructed based on less or more samples? Why?"
      ]
    },
    {
      "cell_type": "code",
      "metadata": {
        "id": "NpltiAXJCyHD",
        "outputId": "1fd63e89-ea66-478f-cca3-b7724aed8be9",
        "colab": {
          "base_uri": "https://localhost:8080/"
        }
      },
      "source": [
        "# Your code here\n",
        "print(0.5, z_interval(100, 5, 1, 0.5))\n",
        "print(0.5, z_interval(1000, 5, 1, 0.5))\n",
        "print(0.5, z_interval(10000, 5, 1, 0.5))"
      ],
      "execution_count": 14,
      "outputs": [
        {
          "output_type": "stream",
          "name": "stdout",
          "text": [
            "0.5 [4.932551024980392, 5.067448975019608]\n",
            "0.5 [4.978670761309424, 5.021329238690576]\n",
            "0.5 [4.993255102498039, 5.006744897501961]\n"
          ]
        }
      ]
    },
    {
      "cell_type": "markdown",
      "metadata": {
        "id": "LYIFy2sEu-ff"
      },
      "source": [
        "## Empirical confidence\n",
        "\n",
        "In theory, a confidence level $\\alpha = 0.05$ means that if we construct the interval many times, the true values of the parameter won't be covered by the interval only 5% of the times.\n",
        "\n",
        "Check this. Sample from the Normal distribution with some values of the parameters several times. Based on each sample, construct confidence intervals for $\\mu$ and record how many times the true mean value of the parameter isn't covered by it.\n",
        "\n",
        "Note: you should repeat sampling sufficient number of times, and your samples should be large enough. Try, for example, samplig $n = 1000$ values at the time, and repeat the process $N = 10000$ times."
      ]
    },
    {
      "cell_type": "code",
      "metadata": {
        "id": "adVZM1bP4sbE"
      },
      "source": [
        "# Your code here\n",
        "intervals = [] # (lower_lim, upper_lim)\n",
        "CI = 90\n",
        "N = 10000\n",
        "times = 1000\n",
        "for _ in range(times):\n",
        "  samples = np.random.normal(5, 1, N)\n",
        "  sample_mean = sum(samples) / N\n",
        "  intervals.append(z_interval(N, sample_mean, 1, 1 - CI/100))"
      ],
      "execution_count": 28,
      "outputs": []
    },
    {
      "cell_type": "markdown",
      "metadata": {
        "id": "M0wixNhRwPmt"
      },
      "source": [
        "What is the % of times that the interval fails to cover the true value of the parameter $\\mu$? How is it related to the confidence of the confidence interval $\\alpha$?"
      ]
    },
    {
      "cell_type": "code",
      "metadata": {
        "id": "8kYkpK3jAJHL",
        "outputId": "77d6d98a-ca3a-4e46-deb8-56abcf3ffd41",
        "colab": {
          "base_uri": "https://localhost:8080/"
        }
      },
      "source": [
        "# Your code here\n",
        "within_interval = 0\n",
        "for lower_lim, upper_lim in intervals:\n",
        "  within_interval += lower_lim <= 5 <= upper_lim\n",
        "print(within_interval / len(intervals) * 100)"
      ],
      "execution_count": 29,
      "outputs": [
        {
          "output_type": "stream",
          "name": "stdout",
          "text": [
            "91.2\n"
          ]
        }
      ]
    }
  ]
}