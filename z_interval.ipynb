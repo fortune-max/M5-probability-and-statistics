{
  "nbformat": 4,
  "nbformat_minor": 0,
  "metadata": {
    "colab": {
      "provenance": [],
      "include_colab_link": true
    },
    "kernelspec": {
      "name": "python3",
      "display_name": "Python 3"
    }
  },
  "cells": [
    {
      "cell_type": "markdown",
      "metadata": {
        "id": "view-in-github",
        "colab_type": "text"
      },
      "source": [
        "<a href=\"https://colab.research.google.com/github/fortune-max/M5-probability-and-statistics/blob/main/z_interval.ipynb\" target=\"_parent\"><img src=\"https://colab.research.google.com/assets/colab-badge.svg\" alt=\"Open In Colab\"/></a>"
      ]
    },
    {
      "cell_type": "markdown",
      "metadata": {
        "id": "pvkiYoXQ3aOj"
      },
      "source": [
        "# z-INTERVAL: CI for the normal distribution, $\\sigma$ known\n",
        "\n",
        "In this notebook, you'll practice contructing the most basic confidence intervals - those for the parameter $\\mu$ of the Normal distribution assuming that the variance $\\sigma^2$ is known and therefore shouldn't be estimated from the data."
      ]
    },
    {
      "cell_type": "markdown",
      "metadata": {
        "id": "iR3fBOVgrgdM"
      },
      "source": [
        "As you saw already, a $(1-\\alpha)-$ confidence interval for the unknown parameter $\\mu$ of a Normal distribution with **known** variance $\\sigma^2$ can be constructed according to the following formula:\n",
        "\n",
        "$(\\bar{X} - \\frac{\\sigma}{\\sqrt{n}}z_{1-\\alpha/2} \\ ; \\ \\bar{X} + \\frac{\\sigma}{\\sqrt{n}}z_{1-\\alpha/2}),$\n",
        "\n",
        "where $z_{1-\\alpha/2}$ denotes $(1-\\alpha/2)-$quantile of the Standard Normal Distribution.\n",
        "\n",
        "Indeed,\n",
        "\n",
        "$P(\\bar{X} - \\frac{\\sigma}{\\sqrt{n}}z_{1-\\alpha/2} < \\mu < \\bar{X} + \\frac{\\sigma}{\\sqrt{n}}z_{1-\\alpha/2}) = 1 - \\alpha$.\n",
        "\n"
      ]
    },
    {
      "cell_type": "code",
      "metadata": {
        "id": "2J6zCtu_3sPN"
      },
      "source": [
        "import numpy as np\n",
        "\n",
        "import matplotlib.pyplot as plt\n",
        "import seaborn as sns\n",
        "\n",
        "import scipy.stats"
      ],
      "execution_count": null,
      "outputs": []
    },
    {
      "cell_type": "markdown",
      "metadata": {
        "id": "U22dxKnxARH8"
      },
      "source": [
        "Define a function *z_interval()* that constructs such an interval (i.e., computes and returns its lower and upper bounds) given the current sample szie $n$, sample mean $\\bar{X}$, value of $\\sigma$ and the confidence level $\\alpha$.\n",
        "\n",
        "To compute the quantiles, use [scipy.stats.norm.ppf()](https://docs.scipy.org/doc/scipy/reference/generated/scipy.stats.norm.html)."
      ]
    },
    {
      "cell_type": "code",
      "metadata": {
        "id": "rPDll3SF3zxP"
      },
      "source": [
        "# Your code here\n"
      ],
      "execution_count": null,
      "outputs": []
    },
    {
      "cell_type": "markdown",
      "metadata": {
        "id": "G2ETU6vRuLqR"
      },
      "source": [
        "Check your function: for the example solved before, where $n = 100, \\ \\bar{X} = 5$ and $\\sigma = 1$, a 0.95 - confidence interval for the unknown parameter $\\mu$ is approximately $(4.804, 5.196)$."
      ]
    },
    {
      "cell_type": "code",
      "metadata": {
        "id": "wk_-s-SPulf9"
      },
      "source": [
        "# Your code here\n"
      ],
      "execution_count": null,
      "outputs": []
    },
    {
      "cell_type": "markdown",
      "metadata": {
        "id": "eJMDoxP_Ajma"
      },
      "source": [
        "## The effect of $\\alpha$\n",
        "\n",
        "Construct CI for the same data, but now with different values of confidence, e.g., $\\alpha = 0.1$ and $\\alpha = 0.01$.\n",
        "\n",
        "How does it influence the width of the intervals - do they get narrower or wider? Why?"
      ]
    },
    {
      "cell_type": "code",
      "metadata": {
        "id": "Puy-qLxlxNS7"
      },
      "source": [
        "# Your code here\n"
      ],
      "execution_count": null,
      "outputs": []
    },
    {
      "cell_type": "markdown",
      "metadata": {
        "id": "Iv7cNB-hApuX"
      },
      "source": [
        "## The effect of $n$\n",
        "\n",
        "Now, let's keep the confidence level $\\alpha = 0.05$, but alter the sample size. What happens to the CI when it's constructed based on less or more samples? Why?"
      ]
    },
    {
      "cell_type": "code",
      "metadata": {
        "id": "NpltiAXJCyHD"
      },
      "source": [
        "# Your code here\n"
      ],
      "execution_count": null,
      "outputs": []
    },
    {
      "cell_type": "markdown",
      "metadata": {
        "id": "LYIFy2sEu-ff"
      },
      "source": [
        "## Empirical confidence\n",
        "\n",
        "In theory, a confidence level $\\alpha = 0.05$ means that if we construct the interval many times, the true values of the parameter won't be covered by the interval only 5% of the times.\n",
        "\n",
        "Check this. Sample from the Normal distribution with some values of the parameters several times. Based on each sample, construct confidence intervals for $\\mu$ and record how many times the true mean value of the parameter isn't covered by it.\n",
        "\n",
        "Note: you should repeat sampling sufficient number of times, and your samples should be large enough. Try, for example, samplig $n = 1000$ values at the time, and repeat the process $N = 10000$ times."
      ]
    },
    {
      "cell_type": "code",
      "metadata": {
        "id": "adVZM1bP4sbE"
      },
      "source": [
        "# Your code here\n"
      ],
      "execution_count": null,
      "outputs": []
    },
    {
      "cell_type": "markdown",
      "metadata": {
        "id": "M0wixNhRwPmt"
      },
      "source": [
        "What is the % of times that the interval fails to cover the true value of the parameter $\\mu$? How is it related to the confidence of the confidence interval $\\alpha$?"
      ]
    },
    {
      "cell_type": "code",
      "metadata": {
        "id": "8kYkpK3jAJHL"
      },
      "source": [
        "# Your code here\n"
      ],
      "execution_count": null,
      "outputs": []
    }
  ]
}