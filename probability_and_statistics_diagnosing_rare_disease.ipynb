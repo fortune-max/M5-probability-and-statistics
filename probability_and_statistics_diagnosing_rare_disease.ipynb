{
  "nbformat": 4,
  "nbformat_minor": 0,
  "metadata": {
    "colab": {
      "provenance": [],
      "include_colab_link": true
    },
    "kernelspec": {
      "name": "python3",
      "display_name": "Python 3"
    },
    "language_info": {
      "name": "python"
    }
  },
  "cells": [
    {
      "cell_type": "markdown",
      "metadata": {
        "id": "view-in-github",
        "colab_type": "text"
      },
      "source": [
        "<a href=\"https://colab.research.google.com/github/fortune-max/M5-probability-and-statistics/blob/main/probability_and_statistics_diagnosing_rare_disease.ipynb\" target=\"_parent\"><img src=\"https://colab.research.google.com/assets/colab-badge.svg\" alt=\"Open In Colab\"/></a>"
      ]
    },
    {
      "cell_type": "code",
      "metadata": {
        "id": "wfY9B4lBC61G"
      },
      "source": [
        "import random"
      ],
      "execution_count": 1,
      "outputs": []
    },
    {
      "cell_type": "markdown",
      "metadata": {
        "id": "oVs5jVnTMJ3l"
      },
      "source": [
        "# **DIAGNOSING A RARE DISEASE**\n",
        "\n",
        "Imagine that $0.5\\%$ of the population has a certain disease:\n",
        "\n",
        "$P(D) = 0.005$\n",
        "\n",
        "There exists a $99\\%$-accurate  test to diagnose it. That is, when the person is sick, the test shows positive (+) result in $99\\%$ of the cases. Similarly, when the person is not sick, the test shows negative (-) result in $99\\%$ of the time:\n",
        "\n",
        "$P(+|Disease) = P(-|no \\ D) = 0.99$\n",
        "\n",
        "Imagine that a random person tests positive. Should they be worried? How likely is it that they are indeed sick? That is, what is the probability\n",
        "\n",
        "$P(D | +) = \\ ?$"
      ]
    },
    {
      "cell_type": "markdown",
      "metadata": {
        "id": "ONfPq3CERj-J"
      },
      "source": [
        "## The task\n",
        "\n",
        "In this exercise, you task is to simulate this scenario and estimate $P(D | +)$ based on the generated data. You will need to complete the following steps:\n",
        "\n",
        "1. Create a sample of N = 100000 people and mark random 0.5% of them as sick.\n",
        "2. Run the test for the disease on all of these people. The test is 99% accurate, meaning that some false negative and false positive results are possible.\n",
        "3. To approximate probability $P(D | +)$ we are interested in, look at the people who got tested positive. How many of them are actually sick?\n",
        "4. Play around with the parameters of our model to see how hey influence the result.\n",
        "\n",
        "Complete the code below following the instructions."
      ]
    },
    {
      "cell_type": "markdown",
      "metadata": {
        "id": "8ZKFvxdvOARC"
      },
      "source": [
        "### Setting up\n",
        "Here is everything we know about the setting:"
      ]
    },
    {
      "cell_type": "code",
      "metadata": {
        "id": "aEcsYfPVC9Ff"
      },
      "source": [
        "# Population size\n",
        "N = 100000\n",
        "\n",
        "# The probability of getting the disease\n",
        "# P(D)\n",
        "p_disease = 0.005\n",
        "\n",
        "# The probability that the test is positive\n",
        "# if the person is ill P(+|D)\n",
        "true_pos_rate = 0.99\n",
        "\n",
        "# The probability that the test is negative\n",
        "# if the person is not ill P(-|no D)\n",
        "true_neg_rate = 0.99"
      ],
      "execution_count": 2,
      "outputs": []
    },
    {
      "cell_type": "markdown",
      "metadata": {
        "id": "AIJYfP_bRui-"
      },
      "source": [
        "### Generating N people"
      ]
    },
    {
      "cell_type": "markdown",
      "metadata": {
        "id": "zd4Sxi-7ODpd"
      },
      "source": [
        "Since probability of having the disease is `p_disease`, out of `N` people roughly `p_disease * N` should be sick.\n",
        "\n",
        "Let's generate the data that models this."
      ]
    },
    {
      "cell_type": "code",
      "metadata": {
        "id": "hwfo16l0C_LA"
      },
      "source": [
        "# Generate N people and diagnose them with the disease (0 - healthy, 1 - sick)\n",
        "# with p_disease = 0.01\n",
        "\n",
        "is_sick = [0] * N\n",
        "target = int(N * p_disease)\n",
        "sick_idxs = random.sample(range(1, N), target)\n",
        "for sick_idx in sick_idxs:\n",
        "  is_sick[sick_idx] = 1\n"
      ],
      "execution_count": 4,
      "outputs": []
    },
    {
      "cell_type": "code",
      "metadata": {
        "id": "c1FzOlESOpNZ",
        "outputId": "66ee65c8-e38d-4dda-d6be-3060f3bd49e0",
        "colab": {
          "base_uri": "https://localhost:8080/"
        }
      },
      "source": [
        "print(100*sum(is_sick)/N, ' % of people have in the population have the disease')"
      ],
      "execution_count": 5,
      "outputs": [
        {
          "output_type": "stream",
          "name": "stdout",
          "text": [
            "0.5  % of people have in the population have the disease\n"
          ]
        }
      ]
    },
    {
      "cell_type": "markdown",
      "metadata": {
        "id": "Wr9297a_Ow1d"
      },
      "source": [
        "### Testing for disease\n",
        "\n",
        "Now, let's test the entire population for the disease in question.\n",
        "\n",
        "For the sick people, the outcome of the test should be positive (1) with probability `true_pos_rate` and negative (0) otherwise. Similarly, for healthy individuals, it should be negative (0) with probability `true_neg_rate` and positive (1) otherwise."
      ]
    },
    {
      "cell_type": "code",
      "metadata": {
        "id": "6RFHTxmoDHIB"
      },
      "source": [
        "# The list containing test results.\n",
        "# 0 = healthy, 1 = sick.\n",
        "\n",
        "\n",
        "test_results = []\n",
        "\n",
        "for x in is_sick:\n",
        "  if x: # is sick\n",
        "    if random.random() < true_pos_rate:\n",
        "      test_results.append(1)\n",
        "    else:\n",
        "      test_results.append(0)\n",
        "  else:\n",
        "    if random.random() < true_neg_rate:\n",
        "      test_results.append(0)\n",
        "    else:\n",
        "      test_results.append(1)\n"
      ],
      "execution_count": 6,
      "outputs": []
    },
    {
      "cell_type": "markdown",
      "metadata": {
        "id": "u85VON4KR1oR"
      },
      "source": [
        "### Analysing results of the tests\n",
        "\n",
        "How many positive test results are there compared to the actual number of sick people?\n",
        "\n"
      ]
    },
    {
      "cell_type": "code",
      "metadata": {
        "id": "6qeXSCAqDN8N",
        "outputId": "1304a657-58c9-43d0-dc6a-260c96a28d4f",
        "colab": {
          "base_uri": "https://localhost:8080/"
        }
      },
      "source": [
        "print(str(sum(100*test_results)/N) + '% of the population is diagnosed with the disease.')\n",
        "print('Only ' + str(100*sum(is_sick)/N) + '% of people in the population are actually sick.')"
      ],
      "execution_count": 7,
      "outputs": [
        {
          "output_type": "stream",
          "name": "stdout",
          "text": [
            "1.518% of the population is diagnosed with the disease.\n",
            "Only 0.5% of people in the population are actually sick.\n"
          ]
        }
      ]
    },
    {
      "cell_type": "markdown",
      "metadata": {
        "id": "yr0x8vwZPyTs"
      },
      "source": [
        "Out of the people who have been diagnosed with a positive test, what is the share of individuals who are actually sick?\n",
        "\n",
        "This ratio approximates the probability P(D|+) that we are interested in."
      ]
    },
    {
      "cell_type": "code",
      "metadata": {
        "id": "e_f8U9PqFhGV",
        "outputId": "9f230d00-6795-4aaf-8cc8-d7b522f8ed61",
        "colab": {
          "base_uri": "https://localhost:8080/"
        }
      },
      "source": [
        "# Your code here\n",
        "diagnosed_sick = 0\n",
        "actually_sick = 0\n",
        "for sick, result in zip(is_sick, test_results):\n",
        "  if result:\n",
        "    diagnosed_sick += 1\n",
        "  if sick:\n",
        "    actually_sick += 1\n",
        "print(actually_sick / diagnosed_sick * 100)"
      ],
      "execution_count": 8,
      "outputs": [
        {
          "output_type": "stream",
          "name": "stdout",
          "text": [
            "32.93807641633729\n"
          ]
        }
      ]
    }
  ]
}