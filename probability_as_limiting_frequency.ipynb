{
  "nbformat": 4,
  "nbformat_minor": 0,
  "metadata": {
    "colab": {
      "provenance": [],
      "include_colab_link": true
    },
    "kernelspec": {
      "name": "python3",
      "display_name": "Python 3"
    },
    "language_info": {
      "name": "python"
    }
  },
  "cells": [
    {
      "cell_type": "markdown",
      "metadata": {
        "id": "view-in-github",
        "colab_type": "text"
      },
      "source": [
        "<a href=\"https://colab.research.google.com/github/fortune-max/M5-probability-and-statistics/blob/main/probability_as_limiting_frequency.ipynb\" target=\"_parent\"><img src=\"https://colab.research.google.com/assets/colab-badge.svg\" alt=\"Open In Colab\"/></a>"
      ]
    },
    {
      "cell_type": "code",
      "metadata": {
        "id": "ZPR4oyuQr2t0"
      },
      "source": [
        "import random\n",
        "\n",
        "import matplotlib.pyplot as plt\n",
        "%matplotlib inline"
      ],
      "execution_count": 1,
      "outputs": []
    },
    {
      "cell_type": "markdown",
      "metadata": {
        "id": "bA_U0gcjMPWW"
      },
      "source": [
        "# **PROBABILITY AS LIMITING FREQUENCY**\n",
        "\n",
        "As you know, one of the possible interpretations of probability if that it's the *limiting frequency* of the event in an infinite series of trials.\n",
        "\n",
        "For example, according to this interpretation, the fact that the probability of getting Heads when flipping a coin is 0.5 means that if we flip a coin more and more times in a row, the fraction of times Heads appear gets closer to 0.5. When the number of the tosses is set to infinity, the lmiting frequency of Heads is 0.5.\n",
        "\n",
        "In this notebook, you'll run a couple of experiments to get more famliar with this interpretation of probability."
      ]
    },
    {
      "cell_type": "markdown",
      "metadata": {
        "id": "82Kf2p3g0R7q"
      },
      "source": [
        "## **Flipping a coin**\n",
        "\n",
        "[John Kerrich](https://en.wikipedia.org/wiki/John_Edmund_Kerrich) was a mathematician noted for a series of experiments in probability which he conducted while interned in Nazi-occupied Denmark in the 1940s. In arguably the most famous of his experiments, Kerrich tossed a fair coin as many as 10,000 times. By recording the number of heads obtained as the trials continued, Kerrich was able to demonstrate that the proportion of heads obtained asymptotically approached the theoretical value of 0.5.\n",
        "\n",
        "Your task is to repeat the experiment. Luckily, you have Python to help you, so you don't have to toss a coin yourself.\n",
        "\n",
        "Your task is to:\n",
        "1. model a signle coin toss;\n",
        "2. model a series of $N = 10000$ coin tosses;\n",
        "3. visuzalize how the frequency of Heads changes as the number of tosses grows;\n",
        "4. repeat the experiment for a biased coin.\n",
        "\n",
        "You can fill in the code below to complete the task, or write your own code from scratch."
      ]
    },
    {
      "cell_type": "code",
      "metadata": {
        "id": "DH4myriGsCU4"
      },
      "source": [
        "def flip_coin(p=0.5):\n",
        "  \"\"\"\n",
        "  A fucntion that simulates tossing a coin.\n",
        "\n",
        "  Parameters:\n",
        "  p - the probability of Heads\n",
        "  (default value 0.5 corresponds to a fair coin)\n",
        "\n",
        "  Returns:\n",
        "  1 for Heads and 0 for Tails.\n",
        "\n",
        "  \"\"\"\n",
        "  # Your code here\n",
        "  pass"
      ],
      "execution_count": null,
      "outputs": []
    },
    {
      "cell_type": "code",
      "metadata": {
        "id": "aDTmnset0Zha"
      },
      "source": [
        "def run_trial_coin(N, p=0.5):\n",
        "  \"\"\"\n",
        "  The function that performs a series of coin tosses\n",
        "  and records the frequency of heads.\n",
        "\n",
        "  Parameters:\n",
        "  N - number of tosses to perform\n",
        "  p - probability of Heads at each toss\n",
        "  (default value 0.5 corresponds to a fair coin)\n",
        "\n",
        "  Returns:\n",
        "  heads_freq - a list of frequencies of Heads\n",
        "  after 10, 20, 30, ..., N tosses\n",
        "\n",
        "  \"\"\"\n",
        "  # Your code here\n",
        "  pass"
      ],
      "execution_count": null,
      "outputs": []
    },
    {
      "cell_type": "markdown",
      "metadata": {
        "id": "hSuvhnQP7BNB"
      },
      "source": [
        "Now, run the experiment! You can start with $N = 10000$ tosses of a fair coin ($p = 0.5$)."
      ]
    },
    {
      "cell_type": "code",
      "metadata": {
        "id": "BNIh37BAslfv"
      },
      "source": [
        "N = 100000\n",
        "p = 0.5\n",
        "\n",
        "heads_freq = run_trial_coin(N, p)"
      ],
      "execution_count": null,
      "outputs": []
    },
    {
      "cell_type": "markdown",
      "metadata": {
        "id": "eg01sTUb7OPd"
      },
      "source": [
        "Let's visuzlize the result. Plot the frequency of Heads with respect to the number of tosses performed.\n",
        "\n",
        "What do you observe?"
      ]
    },
    {
      "cell_type": "code",
      "metadata": {
        "id": "6GQIcmJrzpxh"
      },
      "source": [
        " # Your code here"
      ],
      "execution_count": null,
      "outputs": []
    },
    {
      "cell_type": "markdown",
      "metadata": {
        "id": "DEeqraWV7dmn"
      },
      "source": [
        "Now, repeat the experiment, but change the $p$ parameter to consider a biased coin.\n",
        "\n",
        "What do you observe?\n"
      ]
    },
    {
      "cell_type": "markdown",
      "metadata": {
        "id": "gVIqZZlv87lq"
      },
      "source": [
        "## **Generating bit-strings**\n",
        "\n",
        "What is the probability of randomly generating a bit-string of lenght $n = 5$ that contains $1$ exactly once?\n",
        "\n",
        "You already know the theoretical answer: there are $2^5$ possible bit-strings of length $5$, and only $5$ of them contain digit $1$ exactly once ($10000, 01000, 00100, 00010, 00001$), so the probability to generate suchis a string is $5/32 = 0.15625$.\n",
        "\n",
        "Now, let's perform an experiment similar to the one above to illustarte this.\n",
        "\n",
        "You task is as follows:\n",
        "1. define a function that generates a random bit-string of a given length;\n",
        "2. generate a large number of bit-strings one-by-one, recording the frequency of those containing digit $1$ exactly once every now and then;\n",
        "3. visualize how this frequency changes as the number of generated strings grows.\n",
        "\n",
        "You can fill in the code below to complete the task, or write your own code from scratch."
      ]
    },
    {
      "cell_type": "code",
      "metadata": {
        "id": "icXP0Gdu1iVs"
      },
      "source": [
        "def generate_bitstring(len=5):\n",
        "  \"\"\"\n",
        "  A function that generates a random bit-string of a given length\n",
        "\n",
        "  Parameters:\n",
        "  len - the length of the bit-string\n",
        "\n",
        "  Returns:\n",
        "  a list of n  elements (0s and 1s)\n",
        "  that represents a random bit-string\n",
        "  \"\"\"\n",
        "  # Your code here\n",
        "  pass"
      ],
      "execution_count": null,
      "outputs": []
    },
    {
      "cell_type": "code",
      "metadata": {
        "id": "psiuUuGTN6tV"
      },
      "source": [
        "def run_trials_strings(N, len):\n",
        "  \"\"\"\n",
        "  A function that generates N random bit strings one-by-one\n",
        "  and records the frequency of those that contain digit 1 exactly once\n",
        "\n",
        "  Parameters:\n",
        "  N - number of strings to generate\n",
        "  len - length of each string\n",
        "\n",
        "  Returns:\n",
        "  freq - the list of frequencies of strings that contain digit 1 exactly once\n",
        "  for every additional 10 strings generated\n",
        "\n",
        "  \"\"\"\n",
        "  # Your code here\n",
        "  pass"
      ],
      "execution_count": null,
      "outputs": []
    },
    {
      "cell_type": "markdown",
      "metadata": {
        "id": "ZqcWZPOQsyoF"
      },
      "source": [
        "Now, let's generate some random strings and see how the fraction of those containing digit 1 only once changes."
      ]
    },
    {
      "cell_type": "code",
      "metadata": {
        "id": "WzJWW-Ps9GYm"
      },
      "source": [
        "N = 100000\n",
        "len = 5\n",
        "\n",
        "freq_strings = run_trials_strings(N, len)"
      ],
      "execution_count": null,
      "outputs": []
    },
    {
      "cell_type": "markdown",
      "metadata": {
        "id": "2VDaA2HKNvjk"
      },
      "source": [
        "Let's visuzlize the result. Plot the frequency of the bit-strings containing just one $1$ as the number of generated strings increases.\n",
        "\n",
        "What do you observe?\n"
      ]
    },
    {
      "cell_type": "code",
      "metadata": {
        "id": "HfmKFNBRswuq"
      },
      "source": [
        " # Your code here"
      ],
      "execution_count": null,
      "outputs": []
    },
    {
      "cell_type": "markdown",
      "metadata": {
        "id": "rp048Su7CXck"
      },
      "source": [
        "You can now experiment with the length of the bit-strings generated, as well as compute probability of generating different types of strings.  "
      ]
    }
  ]
}