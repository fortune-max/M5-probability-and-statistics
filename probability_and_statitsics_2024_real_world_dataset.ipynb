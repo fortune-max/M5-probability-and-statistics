{
  "nbformat": 4,
  "nbformat_minor": 0,
  "metadata": {
    "colab": {
      "provenance": [],
      "include_colab_link": true
    },
    "kernelspec": {
      "name": "python3",
      "display_name": "Python 3"
    },
    "language_info": {
      "name": "python"
    }
  },
  "cells": [
    {
      "cell_type": "markdown",
      "metadata": {
        "id": "view-in-github",
        "colab_type": "text"
      },
      "source": [
        "<a href=\"https://colab.research.google.com/github/fortune-max/M5-probability-and-statistics/blob/main/probability_and_statitsics_2024_real_world_dataset.ipynb\" target=\"_parent\"><img src=\"https://colab.research.google.com/assets/colab-badge.svg\" alt=\"Open In Colab\"/></a>"
      ]
    },
    {
      "cell_type": "markdown",
      "source": [
        "# **Probability & Statistics** - Graded Assignment 8"
      ],
      "metadata": {
        "id": "Mz_SPeEWwB3Q"
      }
    },
    {
      "cell_type": "code",
      "execution_count": null,
      "metadata": {
        "id": "BkkoiwstOagR"
      },
      "outputs": [],
      "source": [
        "import numpy as np\n",
        "import pandas as pd\n",
        "\n",
        "import matplotlib.pyplot as plt\n",
        "import seaborn as sns"
      ]
    },
    {
      "cell_type": "code",
      "source": [
        "# TODO read the dataset\n",
        "# data = pd.read_csv()"
      ],
      "metadata": {
        "id": "IBhX3rm5ROKn"
      },
      "execution_count": null,
      "outputs": []
    },
    {
      "cell_type": "markdown",
      "source": [
        "## **Task 1 *(5 points)*** - Exploratory data analysis\n",
        "\n",
        "In this section, you will get to know the data you are working with.\n",
        "\n",
        "First, describe the dataset in a couple of sentences. Mention what it's about, which information is available in it, etc."
      ],
      "metadata": {
        "id": "0ae9Mk7dOp7-"
      }
    },
    {
      "cell_type": "markdown",
      "source": [
        "TODO your text here"
      ],
      "metadata": {
        "id": "N7uBvfnFPzkf"
      }
    },
    {
      "cell_type": "markdown",
      "source": [
        "Now, highlight at least three interesting things one can learn from the dataset. Make some plots, summary tables, etc., and always include an explanation of what you see in plain English. Make it a short data story that is interesting to read!\n",
        "\n",
        "You can use our *Titanic* and *Mammals* notebooks as an inspiration."
      ],
      "metadata": {
        "id": "0luwejcBP1uU"
      }
    },
    {
      "cell_type": "code",
      "source": [
        "# TODO your code here"
      ],
      "metadata": {
        "id": "Hj56Km7nQvjD"
      },
      "execution_count": null,
      "outputs": []
    },
    {
      "cell_type": "markdown",
      "source": [
        "## **Task 2 *(5 points)*** - Hypothesis testing\n",
        "\n",
        "Formulate 1-2 hypotheses and test it Based on the available data.\n",
        "\n",
        "For every hypothesis, clearly state:\n",
        "1. the hypothesis that is being tested in plain English  \n",
        "2. $H_0$ and $H_1$\n",
        "3. which statistical test you've chosen\n",
        "4. why is the test applicable (what are the assumptions of the test? are they satisfied?)\n",
        "5. how do you interpret the outcome of the test\n",
        "\n",
        "\n",
        "\n"
      ],
      "metadata": {
        "id": "IRNwluRAOzJN"
      }
    },
    {
      "cell_type": "code",
      "source": [
        "# TODO your code here"
      ],
      "metadata": {
        "id": "H-AefpRXO3Jz"
      },
      "execution_count": null,
      "outputs": []
    }
  ]
}