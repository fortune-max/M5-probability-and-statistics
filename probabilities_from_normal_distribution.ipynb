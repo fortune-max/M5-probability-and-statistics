{
  "nbformat": 4,
  "nbformat_minor": 0,
  "metadata": {
    "colab": {
      "provenance": [],
      "include_colab_link": true
    },
    "kernelspec": {
      "name": "python3",
      "display_name": "Python 3"
    }
  },
  "cells": [
    {
      "cell_type": "markdown",
      "metadata": {
        "id": "view-in-github",
        "colab_type": "text"
      },
      "source": [
        "<a href=\"https://colab.research.google.com/github/fortune-max/M5-probability-and-statistics/blob/main/probabilities_from_normal_distribution.ipynb\" target=\"_parent\"><img src=\"https://colab.research.google.com/assets/colab-badge.svg\" alt=\"Open In Colab\"/></a>"
      ]
    },
    {
      "cell_type": "markdown",
      "metadata": {
        "id": "3MfdtTDWj31l"
      },
      "source": [
        "# Probabilities from the normal distribution\n",
        "\n",
        "You have seen how to compute the probabilities of a normally distributed random variable being in a particular interval using the tables for the values of $\\Phi(x)$ - CDF of the standard normal distribution. That required standardizing the random variable by subtracting the mean and dividing it by its standard deviation so that the resulting random variable follows the standard normal distribution.\n",
        "\n",
        "Luckily, you don't have to do this in practice, as thre're special function implementd in Pyhton to help you quickly obtain values of CDF of normal distribution with any parameter values. Same goes for computing quantiles.\n",
        "\n",
        "In this notebook, you'll learn how to use them."
      ]
    },
    {
      "cell_type": "code",
      "metadata": {
        "id": "6ukxe1Bgj6sE"
      },
      "source": [
        "import numpy as np\n",
        "import matplotlib.pyplot as plt\n",
        "import seaborn as sns\n",
        "\n",
        "import scipy.stats"
      ],
      "execution_count": 1,
      "outputs": []
    },
    {
      "cell_type": "markdown",
      "metadata": {
        "id": "fg9FjhW3p3CG"
      },
      "source": [
        "According to the National Health and Nutrition Examination survey, height of women can be modelled as a normally distributed random variable with mean 161 cm and standard deviation 7 cm."
      ]
    },
    {
      "cell_type": "code",
      "metadata": {
        "id": "XVYgeHN5kAUc"
      },
      "source": [
        "mu = 161\n",
        "sigma = 7"
      ],
      "execution_count": 2,
      "outputs": []
    },
    {
      "cell_type": "markdown",
      "metadata": {
        "id": "EjIIrB5MqOlb"
      },
      "source": [
        "## PDF Plot\n",
        "\n",
        "Plot the corresponding probability density function."
      ]
    },
    {
      "cell_type": "code",
      "metadata": {
        "id": "8JoPwAtSmqcB"
      },
      "source": [
        "# Your code here\n",
        "p = scipy.norm(150, mu, sigma)"
      ],
      "execution_count": null,
      "outputs": []
    },
    {
      "cell_type": "markdown",
      "metadata": {
        "id": "pKYi_XqAuAAv"
      },
      "source": [
        "## Probabilities\n",
        "\n",
        "You can compute the values of the CDF of the normal distribution with parameters $\\mu$ and $\\sigma$ with the help of the [scipy.stats.norm.cdf()](https://docs.scipy.org/doc/scipy/reference/generated/scipy.stats.norm.html) function."
      ]
    },
    {
      "cell_type": "markdown",
      "metadata": {
        "id": "0KDhY3oPqUVI"
      },
      "source": [
        "What is the probability of a random woman being shorter than 150 cm?"
      ]
    },
    {
      "cell_type": "code",
      "metadata": {
        "id": "LXagY_AjoA3W"
      },
      "source": [
        "# Your code here\n"
      ],
      "execution_count": null,
      "outputs": []
    },
    {
      "cell_type": "markdown",
      "metadata": {
        "id": "IM9lyafoqiCu"
      },
      "source": [
        "What is the probability of a random woman being between 150 and 170 cm?"
      ]
    },
    {
      "cell_type": "code",
      "metadata": {
        "id": "qxDZCwUQn0v4"
      },
      "source": [
        "# Your code here\n"
      ],
      "execution_count": null,
      "outputs": []
    },
    {
      "cell_type": "markdown",
      "metadata": {
        "id": "DcrUJeEMquNc"
      },
      "source": [
        "What is the probability of a random woman being taller than 175 cm?"
      ]
    },
    {
      "cell_type": "code",
      "metadata": {
        "id": "_udIwrk7n5Yg"
      },
      "source": [
        "# Your code here\n"
      ],
      "execution_count": null,
      "outputs": []
    },
    {
      "cell_type": "markdown",
      "metadata": {
        "id": "fnspK3U9swdI"
      },
      "source": [
        "Compute the same probabilities, but now using the CDF of the standard normal distribution ($\\mu = 0, \\sigma = 1$), converting Height into a standard normal variable like in ours examples from the slides."
      ]
    },
    {
      "cell_type": "code",
      "metadata": {
        "id": "z7drHbidsvtb"
      },
      "source": [
        "# Your code here\n"
      ],
      "execution_count": null,
      "outputs": []
    },
    {
      "cell_type": "markdown",
      "metadata": {
        "id": "vbSj-iPuuMf1"
      },
      "source": [
        "## Quantiles and more\n",
        "\n",
        "You can compute quantiles of the normal distribution with parameters $\\mu$ and $\\sigma$ with the help of the [scipy.stats.norm.ppf()](https://docs.scipy.org/doc/scipy/reference/generated/scipy.stats.norm.html) function.\n",
        "\n",
        "According to the 65 - 95 - 99.7 rule, 65% of the data generated from a normal distribution lies within 1 standard deviation from the mean.\n",
        "\n",
        "Which range does the height of 95% of the women fall into?"
      ]
    },
    {
      "cell_type": "code",
      "metadata": {
        "id": "yVyvRFuTuVAH"
      },
      "source": [
        "# Your code here\n"
      ],
      "execution_count": null,
      "outputs": []
    },
    {
      "cell_type": "markdown",
      "metadata": {
        "id": "NsdAVdSYq14x"
      },
      "source": [
        "\"80% of the women are shorter than X cm\". Find the value of X."
      ]
    },
    {
      "cell_type": "code",
      "metadata": {
        "id": "yrRG-LpEqxgl"
      },
      "source": [
        "# Your code here\n"
      ],
      "execution_count": null,
      "outputs": []
    },
    {
      "cell_type": "markdown",
      "metadata": {
        "id": "jncfPfFerQdC"
      },
      "source": [
        "\"Only 5% of the women are taller than X cm\". Find the value of X."
      ]
    },
    {
      "cell_type": "code",
      "metadata": {
        "id": "PHo8RyydrPiO"
      },
      "source": [
        "# Your code here\n"
      ],
      "execution_count": null,
      "outputs": []
    },
    {
      "cell_type": "markdown",
      "metadata": {
        "id": "_XNPii4Ariq6"
      },
      "source": [
        "\"Only 10% of the women are shorter than X cm\". Find the value of X."
      ]
    },
    {
      "cell_type": "code",
      "metadata": {
        "id": "80KhHUc_rne6"
      },
      "source": [
        "# Your code here\n"
      ],
      "execution_count": null,
      "outputs": []
    }
  ]
}