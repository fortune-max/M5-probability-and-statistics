{
  "nbformat": 4,
  "nbformat_minor": 0,
  "metadata": {
    "colab": {
      "provenance": [],
      "include_colab_link": true
    },
    "kernelspec": {
      "name": "python3",
      "display_name": "Python 3"
    }
  },
  "cells": [
    {
      "cell_type": "markdown",
      "metadata": {
        "id": "view-in-github",
        "colab_type": "text"
      },
      "source": [
        "<a href=\"https://colab.research.google.com/github/fortune-max/M5-probability-and-statistics/blob/main/what_is_density.ipynb\" target=\"_parent\"><img src=\"https://colab.research.google.com/assets/colab-badge.svg\" alt=\"Open In Colab\"/></a>"
      ]
    },
    {
      "cell_type": "markdown",
      "metadata": {
        "id": "FVNwCV4vSTsl"
      },
      "source": [
        "# Density function\n",
        "\n",
        "In this notebook, we'll re-create the construction of a probability density function as described in https://youtu.be/PUvUQMQ7xQk and identify a problem with the approach described there."
      ]
    },
    {
      "cell_type": "code",
      "metadata": {
        "id": "93jRlUn5Swc0"
      },
      "source": [
        "import numpy as np\n",
        "import matplotlib.pyplot as plt\n",
        "import seaborn as sns"
      ],
      "execution_count": 1,
      "outputs": []
    },
    {
      "cell_type": "markdown",
      "metadata": {
        "id": "u3S9_jhsSyYk"
      },
      "source": [
        "## Histograms: frequency vs relative frequencies"
      ]
    },
    {
      "cell_type": "code",
      "metadata": {
        "id": "vU6-k5kytGk6"
      },
      "source": [
        "# The toy dataset used in the video\n",
        "toy_data = [0.5, 0.7, 2.1, 2.2, 2.9, 3.2, 3.2, 3.3,\n",
        "            3.7, 4.5, 6.7, 6.8, 5.2, 5.3, 6.7, 8.1]"
      ],
      "execution_count": null,
      "outputs": []
    },
    {
      "cell_type": "markdown",
      "metadata": {
        "id": "HUE05jzVS-h_"
      },
      "source": [
        "In the video, the instructor mentioned two ways to construct histograms, namely record raw counts (frequencies) of each bin or to normalize it in order to obtain relative frequencies that show the share of all observations that fall into a particular bin.\n",
        "\n",
        "Try to plot both types of histograms. You may use the *sns.histplot()* function from the seaborn library, playing around with the stat parameter to go from raw frequencies to the relative ones. You can also use the *binwidth* parameter to control the width of each bin.\n",
        "\n",
        "For more details, see [documentation](https://seaborn.pydata.org/generated/seaborn.histplot.html)."
      ]
    },
    {
      "cell_type": "code",
      "metadata": {
        "id": "ZVgkOWzWvLQq"
      },
      "source": [
        "# Your code here\n"
      ],
      "execution_count": null,
      "outputs": []
    },
    {
      "cell_type": "code",
      "metadata": {
        "id": "5RFj1fXLtwxz"
      },
      "source": [
        "# Your code here\n"
      ],
      "execution_count": null,
      "outputs": []
    },
    {
      "cell_type": "markdown",
      "metadata": {
        "id": "udLkUgWpUAai"
      },
      "source": [
        "## From histograms to densities\n",
        "\n",
        "Now, let's follow the suggested strategy and try to obtain a density function by increasing the number of bins (i.e., reducing their widths).\n",
        "\n",
        "But first, let's sample more data:"
      ]
    },
    {
      "cell_type": "code",
      "metadata": {
        "id": "UbdLLKOXvyzI"
      },
      "source": [
        "n1 = 16000\n",
        "data_1 = 9*np.random.random(n1)"
      ],
      "execution_count": null,
      "outputs": []
    },
    {
      "cell_type": "markdown",
      "metadata": {
        "id": "nwy3RF2yUWgi"
      },
      "source": [
        "Now, try plotting the same relative frequency histogram, but this time reducing the bin width. Try several widths, from large to small."
      ]
    },
    {
      "cell_type": "code",
      "metadata": {
        "id": "fsBYXIu1wCSa"
      },
      "source": [
        "# Your code here\n"
      ],
      "execution_count": null,
      "outputs": []
    },
    {
      "cell_type": "markdown",
      "metadata": {
        "id": "fg1TrSpqU6Or"
      },
      "source": [
        "What do you observe?\n",
        "\n",
        "Does the area of the histograms you are obtaining always 1?\n",
        "\n",
        "Do you see any problem? If so, do you have any idea about how it can be fixed?\n",
        "\n",
        "Plot the correct version below."
      ]
    },
    {
      "cell_type": "code",
      "source": [],
      "metadata": {
        "id": "GjoSOOH1TU7j"
      },
      "execution_count": null,
      "outputs": []
    }
  ]
}