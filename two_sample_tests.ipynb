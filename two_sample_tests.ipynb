{
  "nbformat": 4,
  "nbformat_minor": 0,
  "metadata": {
    "colab": {
      "provenance": [],
      "include_colab_link": true
    },
    "kernelspec": {
      "name": "python3",
      "display_name": "Python 3"
    }
  },
  "cells": [
    {
      "cell_type": "markdown",
      "metadata": {
        "id": "view-in-github",
        "colab_type": "text"
      },
      "source": [
        "<a href=\"https://colab.research.google.com/github/fortune-max/M5-probability-and-statistics/blob/main/two_sample_tests.ipynb\" target=\"_parent\"><img src=\"https://colab.research.google.com/assets/colab-badge.svg\" alt=\"Open In Colab\"/></a>"
      ]
    },
    {
      "cell_type": "code",
      "metadata": {
        "id": "iasZtNHDuWNC"
      },
      "source": [
        "import numpy as np\n",
        "import pandas as pd\n",
        "import matplotlib.pyplot as plt\n",
        "import seaborn as sns"
      ],
      "execution_count": null,
      "outputs": []
    },
    {
      "cell_type": "markdown",
      "metadata": {
        "id": "JXFs0oKO3GMC"
      },
      "source": [
        "## TWO-SIDED TESTS\n",
        "\n",
        "In this notebook you'll apply test you've learned about (and maybe even some other ones) to the data you worked with during the very first class - the famous Titanic dateset.\n",
        "\n",
        "You'll need to come up with meaningful hypotheses and appropriate tests yourself - just like in real life :)"
      ]
    },
    {
      "cell_type": "markdown",
      "metadata": {
        "id": "LvT3VNPF-Cx6"
      },
      "source": [
        "## Statistical tests in Python\n",
        "\n",
        "Luckily, you won't need to implement any tests yourself - you can use readily available implememntations, for example, from the *scipy.stats* module. The full list of tests implemented with short summary and example is available in the official documentation:\n",
        "\n",
        "https://docs.scipy.org/doc/scipy/reference/stats.html#statistical-tests\n",
        "\n",
        "There are of course way more tests listed there than we've seen during the class, but the basic principle of their work is always the same, so don't be afraid to try them out (don't forget to read about the assumptions made by the tests, of course).\n",
        "\n",
        "If you need more detailed introduction, you can refer to, for instance, the following article:\n",
        "\n",
        "https://machinelearningmastery.com/statistical-hypothesis-tests-in-python-cheat-sheet/\n",
        "\n",
        "Of course, you can always google the tets you're interested in to find even more examples."
      ]
    },
    {
      "cell_type": "markdown",
      "metadata": {
        "id": "sjRz1KC4vSUh"
      },
      "source": [
        "## Titanic\n",
        "\n",
        "As you might remember, Titanic data contains information about 714 passengers on Titanic:\n",
        "\n",
        "* **PassengerId** - passenger's ID;\n",
        "* **Name** - passenger's name;\n",
        "* **Sex** - passenger's sex (*male* or *female*);\n",
        "* **Age** - passenger's age;\n",
        "* **Pclass** - ticket class (1 = 1st 2 = 2nd, 3 = 3rd);\n",
        "* **Fare** - ticket price;\n",
        "* **Survived** - passenger's survival (0 = died, 1 = survived).\n",
        "\n",
        "The code below loads the data into a data structure called DataFrame and displays the first couple of rows from it."
      ]
    },
    {
      "cell_type": "code",
      "metadata": {
        "id": "8iscft-avVRH"
      },
      "source": [
        "url = 'https://github.com/evgeniyako/datasets/raw/main/titanic.csv'\n",
        "titanic = pd.read_csv(url)"
      ],
      "execution_count": null,
      "outputs": []
    },
    {
      "cell_type": "code",
      "metadata": {
        "id": "UR82kL4mvY1P"
      },
      "source": [
        "# Showing the first 5 rows from the data\n",
        "# (to show more, pass another number to the head() method\n",
        "#  e.g., titanic.head(10))\n",
        "titanic.head()"
      ],
      "execution_count": null,
      "outputs": []
    },
    {
      "cell_type": "markdown",
      "metadata": {
        "id": "MHFsr6eI3j5D"
      },
      "source": [
        "## Ages: comparing two populations' means\n",
        "\n",
        "As you might remember, during our exploratory data analysis, we noticed that the ages of the passengers look different acroos the classes. This is visible in the pivot table below:"
      ]
    },
    {
      "cell_type": "code",
      "metadata": {
        "id": "0StHrmdh3wOj"
      },
      "source": [
        "pd.pivot_table(titanic, values='Age', index='Pclass')"
      ],
      "execution_count": null,
      "outputs": []
    },
    {
      "cell_type": "markdown",
      "metadata": {
        "id": "VY4G4K0x4APo"
      },
      "source": [
        "But is there a statistically significant difference between the ages of the passengers in class 1, 2 and 3?"
      ]
    },
    {
      "cell_type": "markdown",
      "metadata": {
        "id": "qAgIatr1-37i"
      },
      "source": [
        "### Two-sample Student t-test\n",
        "\n",
        "Let's start by test, for example, if the mean age in class 1 is *different* than that in class 2 with a **two-sample t-test** for comparing the means of two populations:\n",
        "\n",
        "https://docs.scipy.org/doc/scipy/reference/generated/scipy.stats.ttest_ind.html#scipy.stats.ttest_ind\n",
        "\n",
        "Formulate the null and alternative hypotheses, run the test and interpret the result."
      ]
    },
    {
      "cell_type": "code",
      "metadata": {
        "id": "LMV3e3qs3oGI"
      },
      "source": [
        "# Your code here\n"
      ],
      "execution_count": null,
      "outputs": []
    },
    {
      "cell_type": "markdown",
      "metadata": {
        "id": "VVoESDRs_Nc1"
      },
      "source": [
        "Which assumptions about the data did you make? Are they realistic?\n",
        "\n",
        "[YOUR ANSWER HERE]"
      ]
    },
    {
      "cell_type": "markdown",
      "metadata": {
        "id": "QEYCdGsE_vLb"
      },
      "source": [
        "Read here about a non-parametric test that can be used to check if the data is coming from a normal distribution:\n",
        "\n",
        "https://docs.scipy.org/doc/scipy/reference/generated/scipy.stats.normaltest.html#scipy.stats.normaltest\n",
        "\n",
        "If you assumed that the data is normal at the previous step, check this. Does it hold?"
      ]
    },
    {
      "cell_type": "code",
      "metadata": {
        "id": "xawPohNr_30G"
      },
      "source": [
        "# Your code here\n"
      ],
      "execution_count": null,
      "outputs": []
    },
    {
      "cell_type": "markdown",
      "metadata": {
        "id": "59tklsA-ALH-"
      },
      "source": [
        "### Mann-Whitney U test: a non-parametric alernative for the two sample t-test\n",
        "\n",
        "Remember that there was a non-parametric test which can be used as a non-parametric alternative of the two-sample Student t-test, namely **the Mann-Whitney test**.\n",
        "\n",
        "https://docs.scipy.org/doc/scipy/reference/generated/scipy.stats.mannwhitneyu.html#scipy.stats.mannwhitneyu\n",
        "\n",
        "What are the assumptions of that test?\n",
        "\n",
        "[YOUR ANSWER]"
      ]
    },
    {
      "cell_type": "markdown",
      "metadata": {
        "id": "mjwBltDNA2Ev"
      },
      "source": [
        "Apply the test to the data about the ages of the passengers in class 1 and 2.\n",
        "\n",
        "What are the null and alternative hypotheses?\n",
        "\n",
        "[YOUR ANSWER]"
      ]
    },
    {
      "cell_type": "code",
      "metadata": {
        "id": "TvHWxFSY_iSM"
      },
      "source": [
        "# Your code here\n"
      ],
      "execution_count": null,
      "outputs": []
    },
    {
      "cell_type": "markdown",
      "metadata": {
        "id": "5OIOiMkE0DYk"
      },
      "source": [
        "How do you interpret the result?\n",
        "\n",
        "[YOUR ANSWER]\n"
      ]
    },
    {
      "cell_type": "markdown",
      "metadata": {
        "id": "gtGZsgfZBD4G"
      },
      "source": [
        "## Survival: independence check\n",
        "\n",
        "You might also remember that we concluded that from the data, it looks like women had a higher chance of surviving than men. You can see this in the following *contingency table*:"
      ]
    },
    {
      "cell_type": "code",
      "metadata": {
        "id": "emkkEynpvhf-"
      },
      "source": [
        "table = pd.crosstab(index=titanic['Sex'], columns=titanic['Survived'])\n",
        "table"
      ],
      "execution_count": null,
      "outputs": []
    },
    {
      "cell_type": "markdown",
      "metadata": {
        "id": "KNrTWvAzBh2u"
      },
      "source": [
        "Remember the $\\chi^2$-test that can be used to check if the two vaiables are independent based on such a contingency table:\n",
        "\n",
        "https://docs.scipy.org/doc/scipy/reference/generated/scipy.stats.chi2_contingency.html\n",
        "\n",
        "What ar ethe assumptions of the test?\n",
        "\n",
        "[YOU ANSWER HERE]"
      ]
    },
    {
      "cell_type": "markdown",
      "metadata": {
        "id": "rT0hddtsByek"
      },
      "source": [
        "Carefully formulate the null and alternative hypotheses and apply the test to the data.\n",
        "\n",
        "[YOUR ANSWER]"
      ]
    },
    {
      "cell_type": "code",
      "metadata": {
        "id": "TorcBNKjCH31"
      },
      "source": [
        " # Your code here\n",
        ""
      ],
      "execution_count": null,
      "outputs": []
    },
    {
      "cell_type": "markdown",
      "metadata": {
        "id": "lvLF01OtCFpt"
      },
      "source": [
        "Is there evidence strong enough that the chances of surviving weren't equal for male and female passengers?\n",
        "\n",
        "[YOUR ANSWER]"
      ]
    },
    {
      "cell_type": "markdown",
      "metadata": {
        "id": "mNdzOiskCaZi"
      },
      "source": [
        "## Your go: other tests\n",
        "\n",
        "Now, it's your turn!\n",
        "\n",
        "Formulate some hypotheses about the data and test them with an appropriate test.\n",
        "\n",
        "For each test, check its assumptions and explain why you think it's applicable. Always carefully formulate the null and alternative hypotheses and interpret teh results of the test.\n"
      ]
    },
    {
      "cell_type": "code",
      "metadata": {
        "id": "ayF4OtgDC6-k"
      },
      "source": [
        "# Your code here"
      ],
      "execution_count": null,
      "outputs": []
    }
  ]
}