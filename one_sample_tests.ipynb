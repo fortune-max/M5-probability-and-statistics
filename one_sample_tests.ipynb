{
  "nbformat": 4,
  "nbformat_minor": 0,
  "metadata": {
    "colab": {
      "provenance": [],
      "include_colab_link": true
    },
    "kernelspec": {
      "name": "python3",
      "display_name": "Python 3"
    }
  },
  "cells": [
    {
      "cell_type": "markdown",
      "metadata": {
        "id": "view-in-github",
        "colab_type": "text"
      },
      "source": [
        "<a href=\"https://colab.research.google.com/github/fortune-max/M5-probability-and-statistics/blob/main/one_sample_tests.ipynb\" target=\"_parent\"><img src=\"https://colab.research.google.com/assets/colab-badge.svg\" alt=\"Open In Colab\"/></a>"
      ]
    },
    {
      "cell_type": "code",
      "metadata": {
        "id": "9FVsbwVjf6aS"
      },
      "source": [
        "import numpy as np\n",
        "from scipy.stats import norm"
      ],
      "execution_count": null,
      "outputs": []
    },
    {
      "cell_type": "markdown",
      "metadata": {
        "id": "Gm4n7E88lLsQ"
      },
      "source": [
        "# ONE-SAMPLE TESTS\n",
        "\n",
        "In this notebook, you'll practice one-sample tests, namely z- and t-tests for testing whether the population mean equals the hypothesized mean."
      ]
    },
    {
      "cell_type": "markdown",
      "metadata": {
        "id": "opeISsaPlpax"
      },
      "source": [
        "## Z-TEST\n",
        "\n",
        "As you remember, a z-test is used to test if the population mean $\\mu$ equals the hypothesized mean $\\mu_0$ when the following assumtions are satisfied:\n",
        "\n",
        "1. samples $X_1, ..., X_n$ are independent and coming from a normal distribution $N(\\mu, \\sigma^2)$ and\n",
        "2. the true variance of the underlying distribution $\\sigma^2$ is known.\n",
        "\n",
        "We test the null hypothesis\n",
        "\n",
        "$H_0: \\mu = \\mu_0$\n",
        "\n",
        "against one of the follwoing alternatives:\n",
        "\n",
        "1. (two-sided) $H_0: \\mu \\neq \\mu_0$\n",
        "2. (one-sided-greater) $H_0: \\mu > \\mu_0$\n",
        "3. (one-sided-smaller) $H_0: \\mu < \\mu_0$\n",
        "\n",
        "Test statistic is as follows:\n",
        "\n",
        "$T(X) = \\frac{(\\bar{X} - \\mu_0)\\sqrt{n}}{\\sigma} $\n",
        "\n",
        "Assuming that $H_0$ holds, $T(X) \\sim N(0, 1)$.\n",
        "\n"
      ]
    },
    {
      "cell_type": "markdown",
      "metadata": {
        "id": "h4tBnfIenNrx"
      },
      "source": [
        "Define a function *z_test()* that would perform the z-test as described above.\n",
        "\n",
        "The function should take in\n",
        "* data samples;\n",
        "* hypothesized value of the mean $\\mu_0$;\n",
        "* true value of the $\\sigma$ parameter;\n",
        "* significance level $\\alpha$;\n",
        "* indicator for the type of the alternative hypothesis that $H_0$ is being tested against (*two-sided, one-sided-gretaer* or *one-sided-less*)\n",
        "\n",
        "and return the resulting p-value."
      ]
    },
    {
      "cell_type": "code",
      "metadata": {
        "id": "huV2UIxvi-Ur"
      },
      "source": [
        "# Your code here\n"
      ],
      "execution_count": null,
      "outputs": []
    },
    {
      "cell_type": "markdown",
      "metadata": {
        "id": "6WUmecxooPhK"
      },
      "source": [
        "Now, it's time to test your function!\n",
        "\n",
        "Let's solve the problem from yesterday's lecture once again.\n",
        "\n",
        "A supermarket gets bread from the bakery. They expect each loaf to be about 2kg with the satndard deviation of 0.1, but notice the sample means across some random 20 loaves gives an average weight of 1.97 kg.\n",
        "\n",
        "The code below generates the data for the experiment."
      ]
    },
    {
      "cell_type": "code",
      "metadata": {
        "id": "yOXAzEFdPv37"
      },
      "source": [
        "loaves = [2, 1.97, 1.94, 2, 1.97, 1.94, 2, 1.97, 1.94, 1.97,\n",
        "          2, 1.97, 1.94, 2, 1.97, 1.94, 2, 1.97, 1.94, 1.97]\n",
        "\n",
        "sigma = 0.1\n",
        "\n",
        "mu = 2"
      ],
      "execution_count": null,
      "outputs": []
    },
    {
      "cell_type": "markdown",
      "metadata": {
        "id": "w-isDiGbSCf3"
      },
      "source": [
        "Is there evidence strong enough to believe that the bakery isn't delivering bread with the mean weight of 2 kg?\n",
        "\n",
        "Apply the function you've defined above to run z-test on this problem. Specify the null hypothesis and possible alternatives (two-sided and two one-sided ones). Test all of them.\n",
        "\n",
        "Based on the p-value output by your function, do you reject the null hypothesis in each of the cases?"
      ]
    },
    {
      "cell_type": "code",
      "metadata": {
        "id": "zzi6aZarsJ_v"
      },
      "source": [
        "# Your code here\n"
      ],
      "execution_count": null,
      "outputs": []
    },
    {
      "cell_type": "markdown",
      "metadata": {
        "id": "MrwweuCQorq-"
      },
      "source": [
        "## T-TEST\n",
        "\n",
        "A **t-test** is used to test if the population mean $\\mu$ equals the hypothesized mean $\\mu_0$ when the following assumtions are satisfied:\n",
        "\n",
        "1. samples $X_1, ..., X_n$ are independent and coming from a normal distribution $N(\\mu, \\sigma^2)$ and\n",
        "2. the true variance of the underlying distribution $\\sigma^2$ is **unknown**.\n",
        "\n",
        "We test the null hypothesis\n",
        "\n",
        "$H_0: \\mu = \\mu_0$\n",
        "\n",
        "against one of the follwoing alternatives:\n",
        "\n",
        "1. (two-sided) $H_0: \\mu \\neq \\mu_0$\n",
        "2. (one-sided-greater) $H_0: \\mu > \\mu_0$\n",
        "3. (one-sided-smaller) $H_0: \\mu < \\mu_0$\n",
        "\n",
        "Test statistic is as follows:\n",
        "\n",
        "$T(X) = \\frac{(\\bar{X} - \\mu_0)\\sqrt{n}}{s} $, where $s^2 = \\frac{1}{n-1}\\sum_{i=1}^n{(X_i-\\bar{X})^2}$ - sample variance.\n",
        "\n",
        "Assuming that $H_0$ holds, $T(X) \\sim t(n-1)$."
      ]
    },
    {
      "cell_type": "markdown",
      "metadata": {
        "id": "W8IEXxlLpTls"
      },
      "source": [
        "A one-sample t-test is implemented in Python as *ttest_1samp()* function in the scipy library.\n",
        "\n",
        "See details: https://docs.scipy.org/doc/scipy/reference/generated/scipy.stats.ttest_1samp.html#scipy.stats.ttest_1samp"
      ]
    },
    {
      "cell_type": "markdown",
      "metadata": {
        "id": "nMld5BbNSXO6"
      },
      "source": [
        "Let't run an experiment to see how sample size influences the outcome of the statistical test.\n",
        "\n",
        "For a sample size $n = 20$, generate a random sample from the normal distribution $N(1.97, 0.1)$.\n",
        "\n",
        "Pretend now that you don't know the true parameters of the underlying distribution. With the t-test, test the hypothesis $H_0: \\mu = 2$ against a one-sided alternative  $H_1: \\mu < 2$ (treat $\\sigma$ as unknown).\n",
        "\n",
        "What should be the \"correct\" outcome of the test?\n",
        "\n",
        "Repeat this $N = 1000$ times. How many times do you reject the null hypothesis?"
      ]
    },
    {
      "cell_type": "code",
      "metadata": {
        "id": "wyNQAbaapS9w"
      },
      "source": [
        "# Your code here"
      ],
      "execution_count": null,
      "outputs": []
    },
    {
      "cell_type": "markdown",
      "metadata": {
        "id": "ODZ2k0tjTYp5"
      },
      "source": [
        "Now, gradually increase the sample size $n$ and repeat the experiment. What do you observe?"
      ]
    },
    {
      "cell_type": "code",
      "metadata": {
        "id": "Fy4bOR46qfZb"
      },
      "source": [
        "# Your code here"
      ],
      "execution_count": null,
      "outputs": []
    }
  ]
}